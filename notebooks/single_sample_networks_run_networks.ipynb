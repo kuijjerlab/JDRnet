{
 "cells": [
  {
   "cell_type": "markdown",
   "metadata": {},
   "source": [
    "# Single-sample gene regulatory network inference with PANDA and LIONESS\n",
    "This workflow generates single sample PANDA-LIONESS GRNs using the python implementations of the tools from The Network Zoo and can be used to reproduce the single sample networks used in (Pop, et al., 2024). As they can take a long time to run and are computationally demanding, we also provide the pre-computed indegrees and outdegrees used for the analysis in the Zenodo repository.\n",
    "\n",
    "In this notebook, we use the files prepared in `single_sample_networks_data_prep.ipynb` to generate single sample networks. \n",
    "\n",
    "First, we load necessary libraries and set some global parameters."
   ]
  },
  {
   "cell_type": "code",
   "execution_count": null,
   "metadata": {},
   "outputs": [],
   "source": [
    "import os\n",
    "from netZooPy.panda import Panda\n",
    "from netZooPy.lioness import Lioness\n",
    "from netZooPy.lioness.analyze_lioness import AnalyzeLioness\n",
    "import pandas as pd"
   ]
  },
  {
   "cell_type": "code",
   "execution_count": null,
   "metadata": {},
   "outputs": [],
   "source": [
    "# Set working directory\n",
    "wd = \"JDRnet\"\n",
    "os.chdir(wd)"
   ]
  },
  {
   "cell_type": "code",
   "execution_count": null,
   "metadata": {},
   "outputs": [],
   "source": [
    "\n",
    "data_tcga = \"data/TCGA\"\n",
    "data_gep = \"data/GEPliver\"\n",
    "\n",
    "# Define a list of cancer names for which to generate networks\n",
    "cancers_tcga = [\"aml\", \"breast\", \"colon\", \"gbm\", \"kidney\", \"liver\", \"lung\",\n",
    "                \"melanoma\", \"ovarian\", \"sarcoma\"]"
   ]
  },
  {
   "cell_type": "code",
   "execution_count": null,
   "metadata": {},
   "outputs": [],
   "source": [
    "# Set working directory\n",
    "wd = \"JDRnet\"\n",
    "os.chdir(wd)\n",
    "\n",
    "data_tcga = \"/data/TCGA\"\n",
    "data_gep = \"/data/GEPliver\"\n",
    "\n",
    "# Define a list of cancer names for which to generate networks\n",
    "cancers_tcga = [\"aml\", \"breast\", \"colon\", \"gbm\", \"kidney\", \"liver\", \"lung\",\n",
    "                \"melanoma\", \"ovarian\", \"sarcoma\"]"
   ]
  },
  {
   "cell_type": "markdown",
   "metadata": {},
   "source": [
    "# Generating networks\n",
    "We use the `Panda` function from `netZooPy` to create an aggregate network with PANDA. Then we use the Lioness` function to generate the sample specific networks. We do this first for the TCGA datasets, then for the GEPliver dataset."
   ]
  },
  {
   "cell_type": "code",
   "execution_count": null,
   "metadata": {},
   "outputs": [],
   "source": [
    "for cancer in cancers_tcga:\n",
    "    ppath = os.path.join(data_tcga, cancer)\n",
    "    panda_obj = Panda(ppath+'/log_exp_fil.txt',\n",
    "                  ppath+'/prior.txt',\n",
    "                  ppath+'/ppi.txt',\n",
    "                  remove_missing=False, \n",
    "                  keep_expression_matrix=True, save_memory=False, modeProcess='legacy')\n",
    "    lioness_obj = Lioness(panda_obj)\n",
    "    \n",
    "    #save the edgelists\n",
    "    lioness_obj.save_fmt='txt'\n",
    "    lioness_obj.save_lioness_results()\n",
    "\n",
    "    # calculate indegree & outdegree\n",
    "    nets = lioness_obj.export_lioness_results\n",
    "    ind = nets.groupby(by=\"gene\").sum().drop(\"tf\", axis = 1)\n",
    "    out = nets.groupby(by=\"tf\").sum().drop(\"gene\", axis = 1)\n",
    "\n",
    "    #save\n",
    "    ind.to_csv('indegree.txt', sep='\\t', index=False)\n",
    "    out.to_csv('outdegree.txt', sep='\\t', index=False)\n"
   ]
  },
  {
   "cell_type": "code",
   "execution_count": null,
   "metadata": {},
   "outputs": [],
   "source": [
    "ppath = os.path.join(data_gep, cancer)\n",
    "panda_obj = Panda(ppath+'log_exp_fil.txt',\n",
    "                ppath+'prior.txt',\n",
    "                ppath+'ppi.txt',\n",
    "                remove_missing=False, \n",
    "                keep_expression_matrix=True, save_memory=False, modeProcess='legacy')\n",
    "\n",
    "#save the edgelists\n",
    "lioness_obj.save_fmt='txt'\n",
    "lioness_obj.save_lioness_results()\n",
    "\n",
    "# calculate indegree & outdegree\n",
    "nets = lioness_obj.export_lioness_results\n",
    "ind = nets.groupby(by=\"gene\").sum().drop(\"tf\", axis = 1)\n",
    "out = nets.groupby(by=\"tf\").sum().drop(\"gene\", axis = 1)\n",
    "\n",
    "#save\n",
    "ind.to_csv('indegree.txt', sep='\\t', index=False)\n",
    "out.to_csv('outdegree.txt', sep='\\t', index=False)"
   ]
  }
 ],
 "metadata": {
  "language_info": {
   "name": "python"
  }
 },
 "nbformat": 4,
 "nbformat_minor": 2
}
