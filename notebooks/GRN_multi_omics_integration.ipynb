{
 "cells": [
  {
   "cell_type": "markdown",
   "metadata": {},
   "source": [
    "# Integrating GRNs with multi-omics data\n",
    "Author: Romana T. Pop^1^\n",
    "\n",
    "1. Centre for Molecular Medicine Norway (NCMM), Faculty of Medicine, University of Oslo, Oslo, Norway\n",
    "\n",
    "We use MOFA+ to investigate the contribution of GRNs to JDR models and their association with patient survival. We run MOFA+ separately on all omics data types with no GRN information and compared the results with MOFA+ models that included network metrics (indegree, outdegree, and both)."
   ]
  },
  {
   "cell_type": "code",
   "execution_count": null,
   "metadata": {
    "vscode": {
     "languageId": "r"
    }
   },
   "outputs": [],
   "source": [
    "# ensure environment is clean\n",
    "rm(list = ls())\n",
    "\n",
    "# install MARMOT\n",
    "# uncomment if not installed\n",
    "#library(devtools)\n",
    "#install_github(\"rtpop/MARMOT\", ref = \"v0.0.1\")\n",
    "\n",
    "# load libraries\n",
    "library(MARMOT)\n",
    "library(tidyverse)\n",
    "library(reshape2)\n",
    "library(MOFA2)"
   ]
  },
  {
   "cell_type": "code",
   "execution_count": null,
   "metadata": {
    "vscode": {
     "languageId": "r"
    }
   },
   "outputs": [],
   "source": [
    "# some intermediate files are provided for ease, set this parameter to FALSE\n",
    "# if you do not wish to use them and wish to compute them again instead\n",
    "precomputed <- TRUE\n",
    "\n",
    "# setting working directory\n",
    "wd <- \"../JDRnet\"\n",
    "setwd(wd)\n",
    "\n",
    "# specify directory for results to be saved\n",
    "tcga_res <- \"TCGA\"\n",
    "gep_res <- \"GEPliver\"\n",
    "\n",
    "# defining vector of cancer names for which to do the analysis\n",
    "cancers_tcga <- c(\"aml\", \"breast\", \"colon\", \"gbm\", \"kidney\", \"liver\", \"lung\",\n",
    "          \"melanoma\", \"ovarian\", \"sarcoma\")\n",
    "\n",
    "# defining names for the JDR models that we will run\n",
    "model <- c(\"nonet\", \"indeg\", \"out\", \"both\")\n",
    "\n",
    "# define vector of omic names that will be used\n",
    "omics_tcga <- c(\"expression\", \"methylation\", \"miRNA\", \"indegree\", \"outdegree\")"
   ]
  },
  {
   "cell_type": "code",
   "execution_count": null,
   "metadata": {
    "vscode": {
     "languageId": "r"
    }
   },
   "outputs": [],
   "source": [
    "# running MOFA models\n",
    "for (cancer in cancers_tcga) {\n",
    "  load(file.path(tcga_res, paste0(cancer, \"_omics_pca.Rda\")))\n",
    "\n",
    "  #nonet\n",
    "  data_nonet <- omics[1:3]\n",
    "  mofa_nonet <- run_mofa2(data_nonet, n_fct = 5, seed = 13, convergence = \"slow\", use_basilisk = T)\n",
    "  save(mofa_nonet, file = file.path(tcga_res, paste0(\"MOFA_\", cancer, \"_pca_nonet.Rda\")))\n",
    "\n",
    "  # with indeg\n",
    "  data_indeg <- omics[-5]\n",
    "  mofa_indeg <- run_mofa2(data_indeg, n_fct = 5, seed = 13, convergence = \"slow\", use_basilisk = T)\n",
    "  save(mofa_indeg, file = file.path(tcga_res, paste0(\"MOFA_\", cancer, \"_pca_indeg.Rda\")))\n",
    "\n",
    "  # with outdeg\n",
    "  data_out <- omics[-4]\n",
    "  mofa_out <- run_mofa2(data_out, n_fct = 5, seed = 13, convergence = \"slow\", use_basilisk = T)\n",
    "  save(mofa_out, file = file.path(tcga_res, paste0(\"MOFA_\", cancer, \"_pca_out.Rda\")))\n",
    "\n",
    "  # with both\n",
    "  data_both <- omics\n",
    "  mofa_both <- run_mofa2(data_both, n_fct = 5, seed = 13, convergence = \"slow\", use_basilisk = T)\n",
    "  save(mofa_both, file = file.path(tcga_res, paste0(\"MOFA_\", cancer, \"_tcga_pca_both.Rda\")))\n",
    "}"
   ]
  },
  {
   "cell_type": "markdown",
   "metadata": {},
   "source": [
    "We now perform univariate cox regression for each factor to determine their association with patient survival. We compare the association of the factors to patient survival in the models without GRNs and the models with GRNs, reproducing Figure 3 from the paper."
   ]
  },
  {
   "cell_type": "code",
   "execution_count": null,
   "metadata": {
    "vscode": {
     "languageId": "r"
    }
   },
   "outputs": [],
   "source": [
    "# Define model types\n",
    "model_types <- c(\"nonet\", \"indeg\", \"out\", \"both\")\n",
    "\n",
    "# Define file paths for MOFA models and survival data\n",
    "mofa_files <- lapply(model_types, function(model) {\n",
    "  file.path(tcga_res, paste0(\"MOFA_\", cancers_tcga, \"_pca_\", model, \".Rda\"))\n",
    "})\n",
    "mofa_files <- do.call(c, mofa_files)\n",
    "\n",
    "surv_files <- file.path(tcga_res, paste0(cancers_tcga, \"_surv.Rda\"))\n",
    "\n",
    "# Initialize the survival data frame\n",
    "surv_df <- data.frame()\n",
    "\n",
    "# process each cancer for each model type\n",
    "new_surv_df <- Map(function(cancer, mofa_files, surv_file) {\n",
    "  message(\"Processing: \", cancer)\n",
    "\n",
    "  # Load MOFA models and survival data\n",
    "  models <- lapply(mofa_files, load)\n",
    "  models <- lapply(models, get)\n",
    "  load(surv_file) # loads into 'surv' variable\n",
    "\n",
    "  # Getting factors\n",
    "  factors <- lapply(models, function(model) get_factors(model)[[1]])\n",
    "\n",
    "  # Perform survival associations\n",
    "  cox_models <- lapply(factors, surv_association, surv = surv, univariate = TRUE)\n",
    "\n",
    "  # Compare survival models\n",
    "  df <- surv_compare(models = cox_models, model_labels = model_types,\n",
    "                     univariate = TRUE, method = \"BH\")\n",
    "  df$cancer <- cancer\n",
    "\n",
    "  # Save individual cox models\n",
    "  cox_all <- setNames(cox_models, model_types)\n",
    "  save(cox_all, file = file.path(tcga_res, paste0(cancer, \"_cox_models_PCA.Rda\")))\n",
    "\n",
    "  return(df)\n",
    "}, rep(cancers_tcga, each = length(model_types)), seq(1, length(mofa_files), length(cancers_tcga)), surv_files)\n",
    "\n",
    "# Combine all results into a single data frame\n",
    "surv_df <- do.call(rbind, new_surv_df)\n",
    "\n",
    "# Save the combined survival data frame\n",
    "save(surv_df, file = file.path(tcga_res, \"MOFA_surv_df_all_PCA.Rda\"))"
   ]
  },
  {
   "cell_type": "code",
   "execution_count": null,
   "metadata": {
    "vscode": {
     "languageId": "r"
    }
   },
   "outputs": [],
   "source": [
    "# plotting\n",
    "if(!exists(\"surv_df\")){\n",
    "  load(file.path(tcga_res, \"MOFA_surv_df_all_PCA.Rda\"))\n",
    "}\n",
    "\n",
    "#get models to compare\n",
    "model_comp <- setdiff(model, \"nonet\")\n",
    "\n",
    "#set colours\n",
    "cols <- palette(\"Dark2\")\n",
    "\n",
    "for(i in model_comp){\n",
    "  models_to_compare <- c(\"nonet\", i)\n",
    "  p <- surv_compare_dotplot(surv_df = surv_df, models_to_compare = models_to_compare, \n",
    "                            colours = c(cols[8], \"grey\", cols[1]))\n",
    "\n",
    "  ggsave(p, file = paste0(figure_dir, paste0(\"surv_compare_\",models_to_compare[2],\"_tcga.pdf\")))\n",
    "}"
   ]
  }
 ],
 "metadata": {
  "language_info": {
   "name": "python"
  }
 },
 "nbformat": 4,
 "nbformat_minor": 2
}
