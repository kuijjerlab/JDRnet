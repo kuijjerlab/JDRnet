{
 "cells": [
  {
   "cell_type": "markdown",
   "metadata": {},
   "source": [
    "# Single-sample gene regulatory network inference with PANDA and LIONESS\n",
    "This workflow generates single sample PANDA-LIONESS GRNs using the R implementations of the tools from The Network Zoo and can be used to reproduce the single sample networks used in (Pop, et al., 2024). As they can take a long time to run and are computationally demanding, we also provide the pre-computed indegrees and outdegrees used for the analysis in the Zenodo repository.\n",
    "\n",
    "First, we load necessary libraries and set some global parameters."
   ]
  },
  {
   "cell_type": "code",
   "execution_count": null,
   "metadata": {
    "vscode": {
     "languageId": "r"
    }
   },
   "outputs": [],
   "source": [
    "rm(list=ls())\n",
    "library(netZooR)\n",
    "library(data.table)\n",
    "library(biomaRt)"
   ]
  },
  {
   "cell_type": "code",
   "execution_count": null,
   "metadata": {
    "vscode": {
     "languageId": "r"
    }
   },
   "outputs": [],
   "source": [
    "# setting working directory\n",
    "wd <- \"results\"\n",
    "setwd(wd)\n",
    "\n",
    "# set data directory\n",
    "data_tcga <- \"../data/TCGA\"\n",
    "data_gep <- \"../data/GEPliver\"\n",
    "data_net <- \"../data/network_priors\"\n",
    "\n",
    "# defining vector of cancer names for which to generate networks\n",
    "cancers_tcga <- c(\"aml\", \"breast\", \"colon\", \"gbm\", \"kidney\", \"liver\", \"lung\",\n",
    "          \"melanoma\", \"ovarian\", \"sarcoma\")"
   ]
  },
  {
   "cell_type": "markdown",
   "metadata": {},
   "source": [
    "# Preparing data for PANDA\n",
    "PANDA generates GRNs by passing messages between three networks: a prior network of protein-protein interaction of TFs, a prior network of TF binding motifs at gene promoters and a gene co-expression network. We subset our data to only include information common to both the motif prior and the gene expression data (same set of genes) and the motif prior and PPI (same set of TFs)."
   ]
  },
  {
   "cell_type": "code",
   "execution_count": null,
   "metadata": {
    "vscode": {
     "languageId": "r"
    }
   },
   "outputs": [],
   "source": [
    "# defining functions\n",
    "#' @name map_gene_ids\n",
    "#' @description Function that uses biomart to map gene IDs\n",
    "#' @param genes A vector with gene IDs to be mapped.\n",
    "#' @param mappings A vector of length 2 containing the filter/attribute\n",
    "#'  pair to use formapping. These should be valid biomaRt filters/attreibutes.\n",
    "#' (e.g. c(\"entrezgene_id\", \"hgnc\") to convert entrez IDs to HGNC symbols).\n",
    "#' @param mart A character string indicating what mart to use. This must be a\n",
    "#' valid biomaRt mart. Default \"ensembl\".\n",
    "#' @param dataset Which dataset to use. This must be a valid biomaRt dataset.\n",
    "#' Default is \"hsapiens_gene_ensembl\".\n",
    "#'\n",
    "#' @seealso \\code{\\link{biomaRt::useMart}}\n",
    "#' @seealso \\code{\\link{biomaRt::listFilters}}\n",
    "#' @seealso \\code{\\link{biomaRt::listAttributes}}\n",
    "\n",
    "map_gene_ids <- function(genes, mappings, mart = \"ensembl\",\n",
    "                         dataset = \"hsapiens_gene_ensembl\") {\n",
    "    # get mart\n",
    "    mart <- useMart(biomart = mart, dataset = dataset)\n",
    "\n",
    "    # map\n",
    "    mapping <- getBM(attributes = mappings[2], filters = mappings[1],\n",
    "                     values = genes, mart = mart)\n",
    "\n",
    "    return(mapping)\n",
    "}\n",
    "\n",
    "#' @names remove_after_character\n",
    "#' @description Remves all characters from a string after a given character,\n",
    "#' including that character.\n",
    "#' @param string String to be edited.\n",
    "#' @param character Character to be used. Special characters must be escaped.\n",
    "#'\n",
    "#' @returns An edited string\n",
    "\n",
    "remove_after_character <- function(string, character) {\n",
    "# Split the string into parts using the specified character\n",
    "  parts <- strsplit(string, character)[[1]]\n",
    "\n",
    "  # Check if the split produced more than one part\n",
    "  if (length(parts) > 1) {\n",
    "    # return the first part joined together using the specified character\n",
    "    return(paste(parts[1], collapse = character))\n",
    "  } else {\n",
    "    # If there's only one part, return the original string\n",
    "  return(string)\n",
    "  }\n",
    "}"
   ]
  },
  {
   "cell_type": "code",
   "execution_count": null,
   "metadata": {
    "vscode": {
     "languageId": "r"
    }
   },
   "outputs": [],
   "source": [
    "# load panda priors\n",
    "prior <- data.frame(fread(file.path(data_net, \"panda_prior.txt\")))\n",
    "ppi <- data.frame(fread(file.path(\"ppi2015_freeze.txt\")))\n",
    "\n",
    "for (i in cancers_tcga) {\n",
    "    # load expression\n",
    "    exp <- data.frame(fread(file.path(data_tcga, i, \"log_exp\")))\n",
    "\n",
    "    # remove everything but the gene symbols\n",
    "    genes <- exp$probe\n",
    "    genes <- sapply(genes, remove_after_character, character = \"\\\\.\")\n",
    "    genes <- sapply(genes, remove_after_character, character = \"\\\\|\")\n",
    "\n",
    "    exp$probe <- genes\n",
    "\n",
    "    # only keep unique genes\n",
    "    exp <- exp[!duplicated(exp$probe), ]\n",
    "    genes <- genes[!duplicated(genes)]\n",
    "    names(genes) <- NULL\n",
    "\n",
    "    # make gene names row names\n",
    "    rownames(exp) <- exp$probe\n",
    "    exp <- exp[, -1]\n",
    "\n",
    "    # intersect with prior\n",
    "    idx <- intersect(genes, unique(prior[, 2]))\n",
    "    exp <- exp[idx, ]\n",
    "    prior2 <- prior[which(prior[, 2] %in% idx), ]\n",
    "\n",
    "    # intersect priors\n",
    "    idx_pri <- intersect(prior2[, 1], ppi[, 1])\n",
    "    idx_pri <- intersect(idx_pri, ppi[, 2])\n",
    "    ppi2 <- ppi[which(ppi[, 1] %in% idx_pri), ]\n",
    "    ppi2 <- ppi[which(ppi[, 2] %in% idx_pri), ]\n",
    "\n",
    "    sampleorder <- colnames(exp)\n",
    "\n",
    "    # output files\n",
    "    write.table(prior2,\n",
    "                file = file.path(data_tcga, i, \"prior.txt\"),\n",
    "                quote = FALSE, row.names = FALSE, col.names = FALSE, sep = \"\\t\")\n",
    "    write.table(ppi2,\n",
    "                file = file.path(data_tcga, i, \"ppi.txt\"),\n",
    "                quote = FALSE, row.names = FALSE, col.names = FALSE, sep = \"\\t\") \n",
    "    write.table(exp,\n",
    "                file = file.path(data_tcga, i, \"log_exp_fil.txt\"),\n",
    "                quote = FALSE, row.names = TRUE, col.names = FALSE, sep = \"\\t\")\n",
    "    write.table(sampleorder,\n",
    "                file = file.path(data_tcga, i, \"sampleorder.txt\"), \n",
    "                quote = FALSE, row.names = FALSE, col.names = FALSE, sep = \"\\t\")\n",
    "}"
   ]
  },
  {
   "cell_type": "markdown",
   "metadata": {},
   "source": [
    "# Generating networks\n",
    "We use the `lioness` function from `netZooR` to create single sample networks with PANDA and LIONESS. We then calculate the indegree and outdegree of the resulting networks."
   ]
  },
  {
   "cell_type": "code",
   "execution_count": null,
   "metadata": {
    "vscode": {
     "languageId": "r"
    }
   },
   "outputs": [],
   "source": [
    "for (i in cancers_tcga) {\n",
    "    # load the data\n",
    "    expr <- data.frame(fread(file.path(data_tcga, i, \"log_exp_fil.txt\")))\n",
    "    motif <- data.frame(fread(file.path(data_tcga, i, \"prior.txt\")))\n",
    "    ppi <- data.frame(fread(file.path(data_tcga, i, \"ppi.txt\")))\n",
    "    sampleorder <- data.frame(fread(file.path(data_tcga, i, \"sampleorder.txt\")))\n",
    "    \n",
    "    # run lioness\n",
    "    net <- lioness(expr= expr,\n",
    "                   motif = motif,\n",
    "                   ppi = ppi,\n",
    "                   network.inference.method = \"panda\",\n",
    "                   ncores = 10) # adjust depending on the resources available\n",
    "    \n",
    "    names(net) <- sampleorder\n",
    "    \n",
    "    # save\n",
    "    save(net, file = file.path(data_tcga, i, \"net.RData\"))\n",
    "\n",
    "    # calculate degree\n",
    "    indegree <- data.frame(lapply(lioness, function(x) {\n",
    "        ind <- apply(x, 2, sum)\n",
    "    }))\n",
    "\n",
    "    outdegree <- data.frame(lapply(lioness, function(x) {\n",
    "        out <- apply(x, 1, sum)\n",
    "    }))\n",
    "\n",
    "    save(indegree, file = file.path(data_tcga, i, \"indegree.RData\"))\n",
    "    save(outdegree, file = file.path(data_tcga, i, \"outdegree.RData\"))\n",
    "}"
   ]
  }
 ],
 "metadata": {
  "language_info": {
   "name": "python"
  }
 },
 "nbformat": 4,
 "nbformat_minor": 2
}
