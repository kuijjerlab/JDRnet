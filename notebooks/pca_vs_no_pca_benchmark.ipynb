{
 "cells": [
  {
   "cell_type": "markdown",
   "metadata": {},
   "source": [
    "# Benchmarking PCA approach to filtering for joint dimensionality reduction\n",
    "Author: Romana T. Pop^1^\n",
    "\n",
    "1. Centre for Molecular Medicine Norway (NCMM), Faculty of Medicine, University of Oslo, Oslo, Norway\n",
    "\n",
    "## Introduction\n",
    "One of the challenges of multi-omics integration is the different dimensionalities of the various omics data types which can lead to the results being driven by the difference in dimensionality between omics layers, rather than by biological signal.\n",
    "\n",
    "Therefore, omics data must generally be filtered prior to JDR. A few filtering strategies are commonly used, such as filtering to the top *n* most variable features or removing non-variable features. However, these approaches may not always lead to an equal proportion of variability being retained from each omics layer.\n",
    "\n",
    "One approach to filtering in a more data-driven manner is performing principle component analysis (PCA) on the data prior to JDR and using a variance threshold to filter the data. \n",
    "\n",
    "Here, we compare the data and models of four JDR tools with and without PCA.\n",
    "\n",
    "First, we load the libraries we will need and set some parameters for the analysis."
   ]
  },
  {
   "cell_type": "code",
   "execution_count": null,
   "metadata": {
    "vscode": {
     "languageId": "r"
    }
   },
   "outputs": [],
   "source": [
    "# ensure environment is clean\n",
    "rm(list=ls())\n",
    "\n",
    "# install MARMOT\n",
    "# uncomment if not installed\n",
    "#library(devtools)\n",
    "#install_github(\"rtpop/MARMOT\")\n",
    "\n",
    "# load libraries\n",
    "library(MARMOT)\n",
    "library(tidyverse)\n",
    "library(preprocessCore)\n",
    "library(RColorBrewer)\n",
    "library(gridExtra)\n",
    "library(reshape2)\n",
    "library(MOFA2)"
   ]
  },
  {
   "cell_type": "code",
   "execution_count": null,
   "metadata": {
    "vscode": {
     "languageId": "r"
    }
   },
   "outputs": [],
   "source": [
    "# some intermediate files are provided for ease, set this parameter to FALSE\n",
    "# if you do not wish to use them and wish to compute them again instead\n",
    "precomputed <- TRUE\n",
    "\n",
    "# set this parameter to FALSE if you do not want any intermediate files to be saved\n",
    "# note that some intermediate files are necessary and will be saved regardless\n",
    "intermediates <- TRUE\n",
    "\n",
    "# setting working directory\n",
    "wd <- \"results\"\n",
    "setwd(wd)\n",
    "\n",
    "# specify where plots should be saved\n",
    "figure_dir <- \"figures\"\n",
    "\n",
    "# specify directory for logs to be saved\n",
    "log_dir <- \"logs\"\n",
    "\n",
    "# specify directory for the benchmarking to be saved\n",
    "benchmark_dir <- \"benchmark\"\n",
    "\n",
    "# specify directory for results to be saved\n",
    "tcga_res <- \"TCGA\"\n",
    "gep_res <- \"GEPliver\"\n",
    "\n",
    "# defining vector of cancer names for which to do the analysis\n",
    "cancers_tcga <- c(\"aml\", \"breast\", \"colon\", \"gbm\", \"kidney\", \"liver\", \"lung\",\n",
    "          \"melanoma\", \"ovarian\", \"sarcoma\")\n",
    "\n",
    "# defining names for the JDR models that we will run\n",
    "model <- c(\"nonet\", \"indeg\", \"out\", \"both\")"
   ]
  },
  {
   "cell_type": "markdown",
   "metadata": {},
   "source": [
    "We compare the number of features in each omic with and without PCA (reproducing Figures 2 & S2 from the paper). "
   ]
  },
  {
   "cell_type": "code",
   "execution_count": null,
   "metadata": {
    "vscode": {
     "languageId": "r"
    }
   },
   "outputs": [],
   "source": [
    "# Define vectors for file paths\n",
    "omics_files_no_pca <- file.path(wd, paste0(\"tcga_\", cancers_tcga, \"_omics_no_pca.Rda\"))\n",
    "omics_files_pca <- file.path(wd, paste0(\"tcga_\", cancers_tcga, \"_omics_pca.Rda\"))\n",
    "save_paths <- file.path(\"figures\", paste0(cancers_tcga, \"_data_dim_compare.pdf\"))\n",
    "\n",
    "# Create a list of vectors for omics_files\n",
    "omics_files <- Map(function(pca, no_pca) c(pca, no_pca), omics_files_pca, omics_files_no_pca)\n",
    "\n",
    "# Initialize a list to store plots\n",
    "p_list <- vector(\"list\", length(cancers_tcga))\n",
    "names(p_list) <- cancers_tcga\n",
    "\n",
    "# Use Map for plotting and saving individual plots\n",
    "p_list <- Map(function(cancer, omics_file, save_path) {\n",
    "  message(\"Processing: \", cancer)\n",
    "  \n",
    "  # Plot bar plot\n",
    "  p <- plot_data_dim(data = omics_file, data_labels = c(\"PCA\", \"no PCA\"),\n",
    "                     log_x = FALSE, title = cancer, compare = TRUE)\n",
    "  \n",
    "  # Save the plot\n",
    "  ggsave(p, file = save_path, height = 20, width = 20)\n",
    "  \n",
    "  return(p)\n",
    "}, cancers_tcga, omics_files, save_paths)\n",
    "\n",
    "# Combine all plots Next we benchmark the performance of four JDR tools (MOFA+, JIVE, MCIA and RGCCA) on the data with and without PCA. into a grid\n",
    "grid_plot <- do.call(grid.arrange, c(grobs = p_list, ncol = 3))\n",
    "print(grid_plot)\n",
    "ggsave(grid_plot, file = \"figures/data_dim_compare_all_can.pdf\", height = 45, width = 40)"
   ]
  },
  {
   "cell_type": "markdown",
   "metadata": {},
   "source": [
    "Next we benchmark the performance of four JDR tools (MOFA+, JIVE, MCIA and RGCCA) on the data with and without PCA. "
   ]
  },
  {
   "cell_type": "code",
   "execution_count": null,
   "metadata": {
    "vscode": {
     "languageId": "r"
    }
   },
   "outputs": [],
   "source": [
    "if (!precomputed) {\n",
    "  # Ensure the benchmark directory exists\n",
    "  dir.create(file.path(wd, benchmark_dir), showWarnings = FALSE)\n",
    "\n",
    "  # Define vectors for omics file paths and save file paths\n",
    "  omics_files_no_pca <- file.path(wd, paste0(\"tcga_\", cancers_tcga, \"_omics_no_pca.Rda\"))\n",
    "  omics_files_pca <- file.path(wd, paste0(\"tcga_\", cancers_tcga, \"_omics_pca.Rda\"))\n",
    "  save_files_pca <- file.path(wd, benchmark_dir, paste0(cancers_tcga, \"_factorisations_pca.Rda\"))\n",
    "  save_files_no_pca <- file.path(wd, benchmark_dir, paste0(cancers_tcga, \"_factorisations_no_pca.Rda\"))\n",
    "\n",
    "\n",
    "  # iterate over cancers\n",
    "  Map(function(cancer, omics_file_pca, omics_file_no_pca, save_file_pca, save_file_no_pca) {\n",
    "    print(cancer)\n",
    "    \n",
    "    # Run factorization\n",
    "    factorizations_pca <- run_jdr(omic_list = omics_file_pca, seed = 13)\n",
    "    factorizations_no_pca <- run_jdr(omic_list = omics_file_no_pca, seed = 13)\n",
    "    \n",
    "    # Save the factorizations\n",
    "    save(factorizations_pca, file = save_file_pca)\n",
    "    save(factorizations_no_pca, file = save_file_no_pca)\n",
    "\n",
    "  }, cancers_tcga, omics_files_pca, omics_files_no_pca, save_files_pca, save_files_no_pca)\n",
    "}"
   ]
  },
  {
   "cell_type": "markdown",
   "metadata": {},
   "source": [
    "We perform univariate cox regression for each factor to asses its association with survival. The below reproduces Figure S3 from the manuscript."
   ]
  },
  {
   "cell_type": "code",
   "execution_count": null,
   "metadata": {
    "vscode": {
     "languageId": "r"
    }
   },
   "outputs": [],
   "source": [
    "# Define vectors for file paths\n",
    "pca_files <- file.path(benchmark_dir, paste0(cancers_tcga, \"_factorisations_pca.Rda\"))\n",
    "no_pca_files <- file.path(benchmark_dir, paste0(cancers_tcga, \"_factorisations_no_pca.Rda\"))\n",
    "surv_files <- file.path(wd, paste0(cancers_tcga, \"_surv.Rda\"))\n",
    "\n",
    "# Initialize the survival data frame\n",
    "surv_df <- data.frame()\n",
    "\n",
    "# process each cancer type\n",
    "results <- Map(function(cancer, pca_file, no_pca_file, surv_file) {\n",
    "  message(\"Processing: \", cancer)\n",
    "\n",
    "  PCA <- get(load(pca_file))\n",
    "  noPCA <- get(load(no_pca_file))\n",
    "  surv <- get(load(surv_file))\n",
    "\n",
    "  methods <- names(PCA)\n",
    "  result_list <- list()\n",
    "\n",
    "  for (method in methods) {\n",
    "    if (method == \"MOFA\") {\n",
    "      pca_fct <- PCA[[method]][[1]]\n",
    "      nopca_fct <- noPCA[[method]][[1]]\n",
    "    } else {\n",
    "      pca_fct <- PCA[[method]]\n",
    "      nopca_fct <- noPCA[[method]]\n",
    "    }\n",
    "\n",
    "    # Run the survival association of the factors\n",
    "    PCA_cox <- surv_association(pca_fct, surv, univariate = TRUE)\n",
    "    noPCA_cox <- surv_association(nopca_fct, surv, univariate = TRUE)\n",
    "\n",
    "    df <- surv_compare(models = list(PCA_cox, noPCA_cox), \n",
    "                       model_labels = c(\"PCA\", \"no_PCA\"), \n",
    "                       univariate = TRUE, method = \"BH\")\n",
    "\n",
    "    df$cancer <- cancer\n",
    "    df$method <- method\n",
    "\n",
    "    result_list[[method]] <- list(df = df, cox_models = list(PCA_cox, noPCA_cox))\n",
    "  }\n",
    "\n",
    "  return(result_list)\n",
    "}, cancers_tcga, pca_files, no_pca_files, surv_files)\n",
    "\n",
    "# Combine data frames and save the results\n",
    "for (cancer in cancers_tcga) {\n",
    "  for (method in names(results[[cancer]])) {\n",
    "    df <- results[[cancer]][[method]]$df\n",
    "    surv_df <- rbind(surv_df, df)\n",
    "\n",
    "    cox_all <- results[[cancer]][[method]]$cox_models\n",
    "    names(cox_all) <- c(\"PCA\", \"no_PCA\")\n",
    "\n",
    "    save(cox_all, file = file.path(benchmark_dir, paste0(cancer, \"_cox_models_\", method, \".Rda\")))\n",
    "  }\n",
    "}\n",
    "\n",
    "save(surv_df, file = file.path(benchmark_dir, \"TCGA_surv_all_bench.Rda\"))"
   ]
  },
  {
   "cell_type": "code",
   "execution_count": null,
   "metadata": {
    "vscode": {
     "languageId": "r"
    }
   },
   "outputs": [],
   "source": [
    "# plotting\n",
    "load(\"benchmark/TCGA_surv_all_bench.Rda\")\n",
    "\n",
    "method <- unique(surv_df$method)\n",
    "cols <- palette(\"Dark2\")\n",
    "\n",
    "for(i in method){\n",
    "  surv_meth <- surv_df[which(surv_df$method == i), ]\n",
    "  models <- unique(surv_meth$label)\n",
    "  p <- surv_compare_dotplot(surv_df = surv_meth, models_to_compare = models,\n",
    "                            colours = c(cols[8], \"grey\", cols[6]))\n",
    "\n",
    "  ggsave(p, file = file.path(figure_dir, paste0(\"surv_compare_PCA_\", i, \".pdf\")))\n",
    "}"
   ]
  }
 ],
 "metadata": {
  "language_info": {
   "name": "python"
  }
 },
 "nbformat": 4,
 "nbformat_minor": 2
}
