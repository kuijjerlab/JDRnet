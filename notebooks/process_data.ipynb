{
 "cells": [
  {
   "cell_type": "markdown",
   "metadata": {},
   "source": [
    "# Processing data\n",
    "Author: Romana T. Pop^1^\n",
    "\n",
    "1. Centre for Molecular Medicine Norway (NCMM), Faculty of Medicine, University of Oslo, Oslo, Norway\n",
    "\n",
    "This notebook processes the data necessary for reproducing the analysis in Pop et al. 2024.First, we load libraries and set some global parameters. "
   ]
  },
  {
   "cell_type": "code",
   "execution_count": null,
   "metadata": {
    "vscode": {
     "languageId": "r"
    }
   },
   "outputs": [],
   "source": [
    "# ensure environment is clean\n",
    "rm(list=ls())\n",
    "\n",
    "# install MARMOT\n",
    "# uncomment if not installed\n",
    "#library(devtools)\n",
    "#install_github(\"rtpop/MARMOT\")\n",
    "\n",
    "# load libraries\n",
    "library(MARMOT)\n",
    "library(tidyverse)\n",
    "library(preprocessCore)\n",
    "library(reshape2)"
   ]
  },
  {
   "cell_type": "code",
   "execution_count": null,
   "metadata": {
    "vscode": {
     "languageId": "r"
    }
   },
   "outputs": [],
   "source": [
    "# some intermediate files are provided for ease, set this parameter to FALSE\n",
    "# if you do not wish to use them and wish to compute them again instead\n",
    "precomputed <- TRUE\n",
    "\n",
    "# setting working directory\n",
    "wd <- \"results\"\n",
    "setwd(wd)\n",
    "\n",
    "if (!precomputed) {\n",
    "    # specify data file names\n",
    "    files_tcga <- c(\"log_exp.txt\", \"methy.txt\", \"log_mirna.txt\", \"indegree_quant.RData\", \"outdegree.RData\")\n",
    "    files_gep <- c(\"log_exp.txt\", \"indegree_quant.RData\", \"outdegree.RData\")\n",
    "}\n",
    "\n",
    "# specify directory for logs to be saved\n",
    "log_dir <- \"logs\"\n",
    "\n",
    "# specify directory for results to be saved\n",
    "tcga_res <- \"TCGA\"\n",
    "gep_res <- \"GEPliver\"\n",
    "\n",
    "# defining vector of cancer names for which to do the analysis\n",
    "cancers_tcga <- c(\"aml\", \"breast\", \"colon\", \"gbm\", \"kidney\", \"liver\", \"lung\",\n",
    "          \"melanoma\", \"ovarian\", \"sarcoma\")\n",
    "cancers_gep <- \"liver\"\n",
    "\n",
    "# defining names for the JDR models that we will run\n",
    "model <- c(\"nonet\", \"indeg\", \"out\", \"both\")\n",
    "\n",
    "# define vector of omic names that will be used\n",
    "omics_tcga <- c(\"expression\", \"methylation\", \"miRNA\", \"indegree\", \"outdegree\")\n",
    "omics_gep <- c(\"expression\", \"indegree\", \"outdegree\")"
   ]
  },
  {
   "cell_type": "markdown",
   "metadata": {},
   "source": [
    "## Preparing the data\n",
    "\n",
    "We reformat the data and prepare it for downstream analysis. The JDR tools used take a list of matrices as input. Here, we create a list of matrices for each cancer type and quantile normalise the indegrees. We also perform PCA on the omics and create a separate list of matrices for the PCA data.\n",
    "\n",
    "Since we are working with several datasets, the metadata can be messy and inconsistent. Here, we re-format the survival data to ensure the labels are uniform across the cancer types.\n",
    "\n",
    "See the documentation of [MARMOT](https://github.com/rtpop/MARMOT) for complete details of the formatting and processing done below. \n",
    "\n",
    "Since we are applying this processing to many datasets, we first create a wrapper function for processing the omics data and one for processing the survival data. Please note that the paths and filenames below assume the use of the data and directory structure provided on Zenodo. If using this for your own data, you may need to change them accordingly. "
   ]
  },
  {
   "cell_type": "code",
   "execution_count": null,
   "metadata": {
    "vscode": {
     "languageId": "r"
    }
   },
   "outputs": [],
   "source": [
    "#this actually doesn't work properly for gep, so have to fix at some point\n",
    "if (!precomputed) {\n",
    "    # function for omic processing\n",
    "    prepare_cancer_data <- function(cancer, data_dir, file_names, omic_names, log_dir, wd, file_lab) {\n",
    "        print(cancer)\n",
    "        \n",
    "        # Quantile normalize indegrees\n",
    "        indegree_quant_file <- file.path(data_dir, cancer, \n",
    "                                         \"indegree_quant.RData\")\n",
    "        if (!file.exists(indegree_quant_file)) {\n",
    "            indegree_file <- file.path(data_dir, cancer, \"indegree.RData\")\n",
    "            load(indegree_file)\n",
    "            indegree <- normalize.quantiles(as.matrix(indegree), copy = FALSE)\n",
    "            save(indegree, file = indegree_quant_file)\n",
    "        }\n",
    "\n",
    "        # Prepare data without PCA\n",
    "        omics <- prepare_data(omics = file_names, names = omic_names, pca = FALSE,\n",
    "                              logs = TRUE,\n",
    "                              log_name = file.path(log_dir, \n",
    "                                                   \"prep_data_no_pca_log.txt\"))\n",
    "        save(omics, file = file.path(wd, paste0(file_lab, \"_\", cancer, \"_omics_no_pca.Rda\")))\n",
    "\n",
    "        # Prepare data with PCA\n",
    "        omics <- prepare_data(omics = file_names, names = omic_names, pca = TRUE,\n",
    "                              logs = TRUE, \n",
    "                              log_name = file.path(log_dir, \n",
    "                                                   \"prep_data_pca_log.txt\"),\n",
    "                              file_name = paste0(cancer, \n",
    "                                                 \"_omics_pca_results.Rda\"))\n",
    "        save(omics, file = file.path(wd, paste0(file_lab, \"_\",cancer, \"_omics_pca.Rda\")))\n",
    "    }\n",
    "\n",
    "    # Function to prepare survival data for a given cancer type\n",
    "    prepare_survival_data <- function(cancer, data_dir, wd, file_lab) {\n",
    "        print(cancer)\n",
    "\n",
    "        # Define the clinical data path\n",
    "        clin <- file.path(data_dir, cancer, \"clin.txt\")\n",
    "        \n",
    "        # Special handling for 'kidney' cancer type\n",
    "        if (cancer == \"kidney\") {\n",
    "            feature_names <- list(\n",
    "                sample_id = \"submitter_id.samples\",\n",
    "                vital_status = \"vital_status.diagnoses\",\n",
    "                time_to_event = c(\"days_to_death.diagnoses\",\n",
    "                                  \"days_to_last_follow_up.diagnoses\")\n",
    "            )\n",
    "            surv <- prepare_surv(clinical = clin, feature_names = feature_names)\n",
    "            surv$sample_id <- str_sub(surv$sample_id, end = -2)\n",
    "        } else {\n",
    "            feature_names <- list(\n",
    "                sample_id = \"sampleID\",\n",
    "                vital_status = \"vital_status\",\n",
    "                time_to_event = c(\"days_to_death\", \"days_to_last_followup\")\n",
    "            )\n",
    "            surv <- prepare_surv(clinical = clin, feature_names = feature_names)\n",
    "        }\n",
    "\n",
    "        # Standardize sample IDs\n",
    "        surv$sample_id <- gsub(\"-\", \"\\\\.\", surv$sample_id)\n",
    "\n",
    "        # Save the survival data\n",
    "        save(surv, file = file.path(wd, paste0(file_lab, \"_\",cancer, \"_surv.Rda\")))\n",
    "    }\n",
    "}"
   ]
  },
  {
   "cell_type": "markdown",
   "metadata": {},
   "source": [
    "Now we apply it to the TCGA and GEP data."
   ]
  },
  {
   "cell_type": "code",
   "execution_count": null,
   "metadata": {
    "vscode": {
     "languageId": "r"
    }
   },
   "outputs": [],
   "source": [
    "if (!precomputed) {\n",
    "    # Call the preparation function for each cancer type\n",
    "    # for tcga\n",
    "    # omics\n",
    "    lapply(cancers_tcga, prepare_cancer_data, data_dir = data_tcga, file_names = files_tcga,\n",
    "           omic_names = omics_tcga, log_dir = log_dir, wd = wd, file_lab = \"tcga\")\n",
    "    # survival       \n",
    "    lapply(cancers_tcga, prepare_survival_data, data_dir = data_tcga, wd = wd, file_lab = \"tcga\")\n",
    "       \n",
    "    \n",
    "    # for gep\n",
    "    # omics\n",
    "    prepare_cancer_data(cancer = cancers_gep, data_dir = data_gep, file_names = files_gep\n",
    "                        omic_names = omics_gep, log_dir = log_dir, wd = wd, file_lab = \"gep\")\n",
    "    # survival\n",
    "    prepare_survival_data(cancer = cancers_gep, data_dir = data_gep, wd = wd, file_lab = \"gep\")\n",
    "}"
   ]
  }
 ],
 "metadata": {
  "language_info": {
   "name": "python"
  }
 },
 "nbformat": 4,
 "nbformat_minor": 2
}
