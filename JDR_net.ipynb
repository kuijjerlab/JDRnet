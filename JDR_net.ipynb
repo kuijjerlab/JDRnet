{
 "cells": [
  {
   "cell_type": "markdown",
   "metadata": {},
   "source": [
    "# Integrating gene regulatory network with multi-omics data\n",
    "Author: Romana T. Pop^1^\n",
    "\n",
    "1. Centre for Molecular Medicine Norway (NCMM), Faculty of Medicine, University of Oslo, Oslo, Norway\n",
    "\n",
    "## Introduction\n",
    "In this notebook, we reproduce the analysis presented in *paper link*\n",
    "\n",
    "## Necessary data and software\n",
    "Before starting the analysis, make sure all the necessary data is downloaded and software is installed. For exact reproducibility of the results presented in *paper*, we provide a container with the environment used for the analysis. The data is available on Zenodo at *link*.\n",
    "\n",
    "If not using the container provided, we recommend cloning this repository and then downloading the data from Zenodo in the cloned repository directory."
   ]
  },
  {
   "cell_type": "code",
   "execution_count": null,
   "metadata": {
    "vscode": {
     "languageId": "r"
    }
   },
   "outputs": [],
   "source": [
    "# ensure environment is clean\n",
    "rm(list=ls())\n",
    "\n",
    "# install MARMOT\n",
    "library(devtools)\n",
    "install_github(\"rtpop/MARMOT\")\n",
    "\n",
    "# load libraries\n",
    "library(MARMOT)\n",
    "library(tidyverse)\n",
    "library(preprocessCore)\n",
    "library(RColorBrewer)\n",
    "library(msigdbr)\n",
    "library(gridExtra)"
   ]
  },
  {
   "cell_type": "markdown",
   "metadata": {},
   "source": [
    "## Setting parameters\n",
    "Here we set some parameters that will be used throughout the notebook."
   ]
  },
  {
   "cell_type": "code",
   "execution_count": null,
   "metadata": {
    "vscode": {
     "languageId": "r"
    }
   },
   "outputs": [],
   "source": [
    "# setting working directory\n",
    "wd <- \"results\"\n",
    "setwd(wd)\n",
    "\n",
    "# specify where plots should be saved\n",
    "figure_dir <- \"results/figures\"\n",
    "\n",
    "# specify data directories\n",
    "# this should also have the clinical data so make sure to change the code accordingly\n",
    "# and to remove these comments once you do so\n",
    "data_tcga <- \"data/TCGA\"\n",
    "data_gep <- \"data/GEP\"\n",
    "\n",
    "# defining vector of cancer names for which to do the analysis\n",
    "# I'm not sure if this is the best way to go about it, but for now...\n",
    "cancers_tcga <- c(\"aml\", \"breast\", \"colon\", \"gbm\", \"kidney\", \"liver\", \"lung\",\n",
    "          \"melanoma\", \"ovarian\", \"sarcoma\")\n",
    "cancers_gep <- \"liver\"\n",
    "\n",
    "# defining names for the JDR models that we will run\n",
    "# also might not be the best way, so review once you have everything in place\n",
    "model <- c(\"nonet\", \"indeg\", \"out\", \"both\")\n",
    "\n",
    "# define vector of omic names that will be used\n",
    "omics_tcga <- c(\"expression\", \"methylation\", \"miRNA\", \"indegree\", \"outdegree\")\n",
    "omics_gep <- c(\"expression\", \"indegree\", \"outdegree\")"
   ]
  }
 ],
 "metadata": {
  "language_info": {
   "name": "python"
  }
 },
 "nbformat": 4,
 "nbformat_minor": 2
}
