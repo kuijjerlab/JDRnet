{
 "cells": [
  {
   "cell_type": "markdown",
   "metadata": {},
   "source": [
    "# Integrating gene regulatory network with multi-omics data\n",
    "Author: Romana T. Pop^1^\n",
    "\n",
    "1. Centre for Molecular Medicine Norway (NCMM), Faculty of Medicine, University of Oslo, Oslo, Norway\n",
    "\n",
    "## Introduction\n",
    "In this notebook, we reproduce the analysis presented in *paper link*\n",
    "\n",
    "## Necessary data and software\n",
    "Before starting the analysis, make sure all the necessary data is downloaded and software is installed. For exact reproducibility of the results presented in *paper*, we provide a container with the environment used for the analysis. The data is available on Zenodo at *link*.\n",
    "\n",
    "If not using the container provided, we recommend cloning this repository and then downloading the data from Zenodo in the cloned repository directory."
   ]
  },
  {
   "cell_type": "code",
   "execution_count": null,
   "metadata": {
    "vscode": {
     "languageId": "r"
    }
   },
   "outputs": [],
   "source": [
    "# ensure environment is clean\n",
    "rm(list=ls())\n",
    "\n",
    "# install MARMOT\n",
    "library(devtools)\n",
    "install_github(\"rtpop/MARMOT\")\n",
    "\n",
    "# load libraries\n",
    "library(MARMOT)\n",
    "library(tidyverse)\n",
    "library(preprocessCore)\n",
    "library(RColorBrewer)\n",
    "library(msigdbr)\n",
    "library(gridExtra)"
   ]
  },
  {
   "cell_type": "markdown",
   "metadata": {},
   "source": [
    "## Setting parameters\n",
    "Here we set some parameters that will be used throughout the notebook."
   ]
  },
  {
   "cell_type": "code",
   "execution_count": null,
   "metadata": {
    "vscode": {
     "languageId": "r"
    }
   },
   "outputs": [],
   "source": [
    "# setting working directory\n",
    "wd <- \"results\"\n",
    "setwd(wd)\n",
    "\n",
    "# specify where plots should be saved\n",
    "figure_dir <- \"figures\"\n",
    "\n",
    "# specify data directories\n",
    "# this should also have the clinical data so make sure to change the code accordingly\n",
    "# and to remove these comments once you do so\n",
    "data_tcga <- \"data/TCGA\"\n",
    "data_gep <- \"data/GEP\"\n",
    "\n",
    "# specify directory for logs to be saved\n",
    "log_dir <- \"logs\"\n",
    "\n",
    "# defining vector of cancer names for which to do the analysis\n",
    "# I'm not sure if this is the best way to go about it, but for now...\n",
    "cancers_tcga <- c(\"aml\", \"breast\", \"colon\", \"gbm\", \"kidney\", \"liver\", \"lung\",\n",
    "          \"melanoma\", \"ovarian\", \"sarcoma\")\n",
    "cancers_gep <- \"liver\"\n",
    "\n",
    "# defining names for the JDR models that we will run\n",
    "# also might not be the best way, so review once you have everything in place\n",
    "model <- c(\"nonet\", \"indeg\", \"out\", \"both\")\n",
    "\n",
    "# define vector of omic names that will be used\n",
    "omics_tcga <- c(\"expression\", \"methylation\", \"miRNA\", \"indegree\", \"outdegree\")\n",
    "omics_gep <- c(\"expression\", \"indegree\", \"outdegree\")\n",
    "\n",
    "# some intermediate files are provided for ease, set this parameter to FALSE\n",
    "# if you do not wish to use them and wish to compute them again instead\n",
    "precomputed <- TRUE"
   ]
  },
  {
   "cell_type": "markdown",
   "metadata": {},
   "source": [
    "## Preparing the data\n",
    "**This entire section need not be run if `precomputed = TRUE`**\n",
    "\n",
    "We reformat the data and prepare it for downstream analysis. The JDR tools used take a list of matrices as input. Here, we create a list of matrices for each cancer type and quantile normalise the indegrees. We also perform PCA on the omics and create a separate list of matrices for the PCA data.\n",
    "\n",
    "Since we are working with several datasets, the metadata can be messy and inconsistent. Here, we re-format the survival data to ensure the labels are uniform across the cancer types.\n",
    "\n",
    "See the documentation of [MARMOT](https://github.com/rtpop/MARMOT) for complete details of the formatting and processing done below. \n",
    "\n",
    "Since we are applying this processing to many datasets, we first create a wrapper function for processing the omics data and one for processing the survival data. Please note that the paths and filenames below assume the use of the data and directory structure provided on Zenodo. If using this for your own data, you may need to change them accordingly. "
   ]
  },
  {
   "cell_type": "code",
   "execution_count": null,
   "metadata": {
    "vscode": {
     "languageId": "r"
    }
   },
   "outputs": [],
   "source": [
    "if (!precomputed) {\n",
    "    # function for omic processing\n",
    "    prepare_cancer_data <- function(cancer, data_dir, omic_names, log_dir, wd) {\n",
    "        print(cancer)\n",
    "        # Get omic file names\n",
    "        files <- paste0(data_dir, cancer, \"/\",\n",
    "                        c(\"log_exp\", \"methy\", \"log_mirna\",\n",
    "                          \"indegree_quant.RData\", \"outdegree.RData\"))\n",
    "        \n",
    "        # Quantile normalize indegrees\n",
    "        indegree_quant_file <- file.path(data_dir, cancer, \n",
    "                                         \"indegree_quant.RData\")\n",
    "        if (!file.exists(indegree_quant_file)) {\n",
    "            indegree_file <- file.path(data_dir, cancer, \"indegree.RData\")\n",
    "            load(indegree_file)\n",
    "            indegree <- normalize.quantiles(as.matrix(indegree), copy = FALSE)\n",
    "            save(indegree, file = indegree_quant_file)\n",
    "        }\n",
    "\n",
    "        # Prepare data without PCA\n",
    "        omics <- prepare_data(omics = files, names = omic_names, pca = FALSE,\n",
    "                              logs = TRUE,\n",
    "                              log_name = file.path(log_dir, \n",
    "                                                   \"prep_data_no_pca_log.txt\"))\n",
    "        save(omics, file = file.path(wd, paste0(cancer, \"_omics_no_pca.Rda\")))\n",
    "\n",
    "        # Prepare data with PCA\n",
    "        omics <- prepare_data(omics = files, names = omic_names, pca = TRUE,\n",
    "                              logs = TRUE, \n",
    "                              log_name = file.path(log_dir, \n",
    "                                                   \"prep_data_pca_log.txt\"),\n",
    "                              file_name = paste0(cancer, \n",
    "                                                 \"_omics_pca_results.Rda\"))\n",
    "        save(omics, file = file.path(wd, paste0(cancer, \"_omics_pca.Rda\")))\n",
    "    }\n",
    "\n",
    "    # Function to prepare survival data for a given cancer type\n",
    "    prepare_survival_data <- function(cancer, data_dir, wd) {\n",
    "        print(cancer)\n",
    "\n",
    "        # Define the clinical data path\n",
    "        clin <- file.path(data_dir, cancer)\n",
    "        \n",
    "        # Special handling for 'kidney' cancer type\n",
    "        if (cancer == \"kidney\") {\n",
    "            feature_names <- list(\n",
    "                sample_id = \"submitter_id.samples\",\n",
    "                vital_status = \"vital_status.diagnoses\",\n",
    "                time_to_event = c(\"days_to_death.diagnoses\",\n",
    "                                  \"days_to_last_follow_up.diagnoses\")\n",
    "            )\n",
    "            surv <- prepare_surv(clinical = clin, feature_names = feature_names)\n",
    "            surv$sample_id <- str_sub(surv$sample_id, end = -2)\n",
    "        } else {\n",
    "            feature_names <- list(\n",
    "                sample_id = \"sampleID\",\n",
    "                vital_status = \"vital_status\",\n",
    "                time_to_event = c(\"days_to_death\", \"days_to_last_followup\")\n",
    "            )\n",
    "            surv <- prepare_surv(clinical = clin, feature_names = feature_names)\n",
    "        }\n",
    "\n",
    "        # Standardize sample IDs\n",
    "        surv$sample_id <- gsub(\"-\", \"\\\\.\", surv$sample_id)\n",
    "\n",
    "        # Save the survival data\n",
    "        save(surv, file = file.path(wd, paste0(cancer, \"_surv.Rda\")))\n",
    "    }\n",
    "}"
   ]
  },
  {
   "cell_type": "markdown",
   "metadata": {},
   "source": [
    "Now we apply it to the TCGA and GEP data."
   ]
  },
  {
   "cell_type": "code",
   "execution_count": null,
   "metadata": {
    "vscode": {
     "languageId": "r"
    }
   },
   "outputs": [],
   "source": [
    "if (!precomputed) {\n",
    "    # Call the preparation function for each cancer type\n",
    "    # for tcga\n",
    "    # omics\n",
    "    lapply(cancers_tcga, prepare_cancer_data, data_dir = data_tcga, \n",
    "           omic_names = omics_tcga, log_dir = log_dir, wd = wd)\n",
    "    # survival       \n",
    "    lapply(cancers_tcga, prepare_survival_data, data_dir = data_tcga, wd = wd)\n",
    "       \n",
    "    \n",
    "    # for gep\n",
    "    # omics\n",
    "    prepare_cancer_data(cancer = cancers_gep, data_dir = data_gep,\n",
    "                        omic_names = omics_gep, log_dir = log_dir, wd = wd)\n",
    "    # survival\n",
    "    prepare_survival_data(cancer = cancers_gep, data_dir = data_gep, wd = wd)\n",
    "}"
   ]
  },
  {
   "cell_type": "markdown",
   "metadata": {},
   "source": [
    "# Comparing JDR models with and without PCA\n",
    "We compare the models of four JDR tools with and without PCA."
   ]
  },
  {
   "cell_type": "code",
   "execution_count": null,
   "metadata": {
    "vscode": {
     "languageId": "r"
    }
   },
   "outputs": [],
   "source": []
  }
 ],
 "metadata": {
  "language_info": {
   "name": "python"
  }
 },
 "nbformat": 4,
 "nbformat_minor": 2
}
