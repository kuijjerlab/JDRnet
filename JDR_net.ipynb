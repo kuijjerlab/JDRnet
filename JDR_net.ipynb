{
 "cells": [
  {
   "cell_type": "markdown",
   "metadata": {},
   "source": [
    "# Integrating gene regulatory network with multi-omics data\n",
    "Author: Romana T. Pop^1^\n",
    "\n",
    "1. Centre for Molecular Medicine Norway (NCMM), Faculty of Medicine, University of Oslo, Oslo, Norway\n",
    "\n",
    "## Introduction\n",
    "The emergence of high-throughput omics technologies has resulted in their wide application to cancer studies, greatly increasing our understanding of the disruptions occurring at different molecular levels. The role of gene regulation as a core driver of biological processes and its role in the development and progression of cancer has been well established. Transcriptional regulation, a crucial aspect of gene regulation, can be represented as a network of interactions between regulators (such as transcription factors) and their target genes. These networks are known as gene regulatory networks (GRNs). Several joint dimensionality reduction (JDR) methods and tools for integrating multi-modal data have been developed in recent years. \n",
    "\n",
    "In this notebook, we reproduce the analysis presented in *paper link*. We will integrate GRNs with multi-omics data in ten cancer chorts from TCGA and investigte the contribution of GRNs to identifying survival associated factors.\n",
    "\n",
    "## Necessary data and software\n",
    "Before starting the analysis, make sure all the necessary data is downloaded and software is installed. For exact reproducibility of the results presented in *paper*, we provide a container with the environment used for the analysis. The data is available on Zenodo at *link*.\n",
    "\n",
    "If not using the container provided, we recommend cloning this repository and then downloading the data from Zenodo in the cloned repository directory."
   ]
  },
  {
   "cell_type": "code",
   "execution_count": null,
   "metadata": {
    "vscode": {
     "languageId": "r"
    }
   },
   "outputs": [],
   "source": [
    "# ensure environment is clean\n",
    "rm(list=ls())\n",
    "\n",
    "# install MARMOT\n",
    "library(devtools)\n",
    "install_github(\"rtpop/MARMOT\")\n",
    "\n",
    "# load libraries\n",
    "library(MARMOT)\n",
    "library(tidyverse)\n",
    "library(preprocessCore)\n",
    "library(RColorBrewer)\n",
    "library(msigdbr)\n",
    "library(gridExtra)"
   ]
  },
  {
   "cell_type": "markdown",
   "metadata": {},
   "source": [
    "## Setting parameters\n",
    "Here we set some parameters that will be used throughout the notebook."
   ]
  },
  {
   "cell_type": "code",
   "execution_count": null,
   "metadata": {
    "vscode": {
     "languageId": "r"
    }
   },
   "outputs": [],
   "source": [
    "# setting working directory\n",
    "wd <- \"results\"\n",
    "setwd(wd)\n",
    "\n",
    "# specify where plots should be saved\n",
    "figure_dir <- \"figures\"\n",
    "\n",
    "# specify data directories\n",
    "# this should also have the clinical data so make sure to change the code accordingly\n",
    "# and to remove these comments once you do so\n",
    "data_tcga <- \"data/TCGA\"\n",
    "data_gep <- \"data/GEP\"\n",
    "\n",
    "# specify directory for logs to be saved\n",
    "log_dir <- \"logs\"\n",
    "\n",
    "# specify directory for the benchmarking to be saved\n",
    "benchmark_dir <- \"benchmark\"\n",
    "\n",
    "# defining vector of cancer names for which to do the analysis\n",
    "# I'm not sure if this is the best way to go about it, but for now...\n",
    "cancers_tcga <- c(\"aml\", \"breast\", \"colon\", \"gbm\", \"kidney\", \"liver\", \"lung\",\n",
    "          \"melanoma\", \"ovarian\", \"sarcoma\")\n",
    "cancers_gep <- \"liver\"\n",
    "\n",
    "# defining names for the JDR models that we will run\n",
    "# also might not be the best way, so review once you have everything in place\n",
    "model <- c(\"nonet\", \"indeg\", \"out\", \"both\")\n",
    "\n",
    "# define vector of omic names that will be used\n",
    "omics_tcga <- c(\"expression\", \"methylation\", \"miRNA\", \"indegree\", \"outdegree\")\n",
    "omics_gep <- c(\"expression\", \"indegree\", \"outdegree\")\n",
    "\n",
    "# some intermediate files are provided for ease, set this parameter to FALSE\n",
    "# if you do not wish to use them and wish to compute them again instead\n",
    "precomputed <- TRUE"
   ]
  },
  {
   "cell_type": "markdown",
   "metadata": {},
   "source": [
    "## Preparing the data\n",
    "**This entire section need not be run if `precomputed = TRUE`**\n",
    "\n",
    "We reformat the data and prepare it for downstream analysis. The JDR tools used take a list of matrices as input. Here, we create a list of matrices for each cancer type and quantile normalise the indegrees. We also perform PCA on the omics and create a separate list of matrices for the PCA data.\n",
    "\n",
    "Since we are working with several datasets, the metadata can be messy and inconsistent. Here, we re-format the survival data to ensure the labels are uniform across the cancer types.\n",
    "\n",
    "See the documentation of [MARMOT](https://github.com/rtpop/MARMOT) for complete details of the formatting and processing done below. \n",
    "\n",
    "Since we are applying this processing to many datasets, we first create a wrapper function for processing the omics data and one for processing the survival data. Please note that the paths and filenames below assume the use of the data and directory structure provided on Zenodo. If using this for your own data, you may need to change them accordingly. "
   ]
  },
  {
   "cell_type": "code",
   "execution_count": null,
   "metadata": {
    "vscode": {
     "languageId": "r"
    }
   },
   "outputs": [],
   "source": [
    "if (!precomputed) {\n",
    "    # function for omic processing\n",
    "    prepare_cancer_data <- function(cancer, data_dir, omic_names, log_dir, wd) {\n",
    "        print(cancer)\n",
    "        # Get omic file names\n",
    "        files <- paste0(data_dir, cancer, \"/\",\n",
    "                        c(\"log_exp\", \"methy\", \"log_mirna\",\n",
    "                          \"indegree_quant.RData\", \"outdegree.RData\"))\n",
    "        \n",
    "        # Quantile normalize indegrees\n",
    "        indegree_quant_file <- file.path(data_dir, cancer, \n",
    "                                         \"indegree_quant.RData\")\n",
    "        if (!file.exists(indegree_quant_file)) {\n",
    "            indegree_file <- file.path(data_dir, cancer, \"indegree.RData\")\n",
    "            load(indegree_file)\n",
    "            indegree <- normalize.quantiles(as.matrix(indegree), copy = FALSE)\n",
    "            save(indegree, file = indegree_quant_file)\n",
    "        }\n",
    "\n",
    "        # Prepare data without PCA\n",
    "        omics <- prepare_data(omics = files, names = omic_names, pca = FALSE,\n",
    "                              logs = TRUE,\n",
    "                              log_name = file.path(log_dir, \n",
    "                                                   \"prep_data_no_pca_log.txt\"))\n",
    "        save(omics, file = file.path(wd, paste0(cancer, \"_omics_no_pca.Rda\")))\n",
    "\n",
    "        # Prepare data with PCA\n",
    "        omics <- prepare_data(omics = files, names = omic_names, pca = TRUE,\n",
    "                              logs = TRUE, \n",
    "                              log_name = file.path(log_dir, \n",
    "                                                   \"prep_data_pca_log.txt\"),\n",
    "                              file_name = paste0(cancer, \n",
    "                                                 \"_omics_pca_results.Rda\"))\n",
    "        save(omics, file = file.path(wd, paste0(cancer, \"_omics_pca.Rda\")))\n",
    "    }\n",
    "\n",
    "    # Function to prepare survival data for a given cancer type\n",
    "    prepare_survival_data <- function(cancer, data_dir, wd) {\n",
    "        print(cancer)\n",
    "\n",
    "        # Define the clinical data path\n",
    "        clin <- file.path(data_dir, cancer)\n",
    "        \n",
    "        # Special handling for 'kidney' cancer type\n",
    "        if (cancer == \"kidney\") {\n",
    "            feature_names <- list(\n",
    "                sample_id = \"submitter_id.samples\",\n",
    "                vital_status = \"vital_status.diagnoses\",\n",
    "                time_to_event = c(\"days_to_death.diagnoses\",\n",
    "                                  \"days_to_last_follow_up.diagnoses\")\n",
    "            )\n",
    "            surv <- prepare_surv(clinical = clin, feature_names = feature_names)\n",
    "            surv$sample_id <- str_sub(surv$sample_id, end = -2)\n",
    "        } else {\n",
    "            feature_names <- list(\n",
    "                sample_id = \"sampleID\",\n",
    "                vital_status = \"vital_status\",\n",
    "                time_to_event = c(\"days_to_death\", \"days_to_last_followup\")\n",
    "            )\n",
    "            surv <- prepare_surv(clinical = clin, feature_names = feature_names)\n",
    "        }\n",
    "\n",
    "        # Standardize sample IDs\n",
    "        surv$sample_id <- gsub(\"-\", \"\\\\.\", surv$sample_id)\n",
    "\n",
    "        # Save the survival data\n",
    "        save(surv, file = file.path(wd, paste0(cancer, \"_surv.Rda\")))\n",
    "    }\n",
    "}"
   ]
  },
  {
   "cell_type": "markdown",
   "metadata": {},
   "source": [
    "Now we apply it to the TCGA and GEP data."
   ]
  },
  {
   "cell_type": "code",
   "execution_count": null,
   "metadata": {
    "vscode": {
     "languageId": "r"
    }
   },
   "outputs": [],
   "source": [
    "if (!precomputed) {\n",
    "    # Call the preparation function for each cancer type\n",
    "    # for tcga\n",
    "    # omics\n",
    "    lapply(cancers_tcga, prepare_cancer_data, data_dir = data_tcga, \n",
    "           omic_names = omics_tcga, log_dir = log_dir, wd = wd)\n",
    "    # survival       \n",
    "    lapply(cancers_tcga, prepare_survival_data, data_dir = data_tcga, wd = wd)\n",
    "       \n",
    "    \n",
    "    # for gep\n",
    "    # omics\n",
    "    prepare_cancer_data(cancer = cancers_gep, data_dir = data_gep,\n",
    "                        omic_names = omics_gep, log_dir = log_dir, wd = wd)\n",
    "    # survival\n",
    "    prepare_survival_data(cancer = cancers_gep, data_dir = data_gep, wd = wd)\n",
    "}"
   ]
  },
  {
   "cell_type": "markdown",
   "metadata": {},
   "source": [
    "# Benchmarking JDR models with and without PCA\n",
    "One of the challenges of multi-omics integration is the different dimensionalities of the various omics data types which can lead to the results being driven by the difference in dimensionality between omics layers, rather than by biological signal.\n",
    "\n",
    "Therefore, omics data must generally be filtered prior to JDR. A few filtering strategies are commonly used, such as filtering to the top *n* most variable features or removing non-variable features. However, these approaches may not always lead to an equal proportion of variability being retained from each omics layer.\n",
    "\n",
    "One approach to filtering in a more data-driven manner is performing principle component analysis (PCA) on the data prior to JDR and using a variance threshold to filter the data. \n",
    "\n",
    "Here, we compare the data and models of four JDR tools with and without PCA.\n",
    "\n",
    "First, we compare the number of features in each omic with and without PCA (reproducing Figures 2 & S2 from the paper)."
   ]
  },
  {
   "cell_type": "code",
   "execution_count": null,
   "metadata": {
    "vscode": {
     "languageId": "r"
    }
   },
   "outputs": [],
   "source": [
    "# Define vectors for file paths\n",
    "omics_files_no_pca <- file.path(wd, paste0(cancers, \"_omics_no_pca.Rda\"))\n",
    "omics_files_pca <- file.path(wd, paste0(cancers, \"_omics_pca.Rda\"))\n",
    "save_paths <- file.path(\"figures\", paste0(cancers, \"_data_dim_compare.pdf\"))\n",
    "\n",
    "# Create a list of vectors for omics_files\n",
    "omics_files <- Map(function(pca, no_pca) c(pca, no_pca), omics_files_pca, omics_files_no_pca)\n",
    "\n",
    "# Initialize a list to store plots\n",
    "p_list <- vector(\"list\", length(cancers))\n",
    "names(p_list) <- cancers\n",
    "\n",
    "# Use Map for plotting and saving individual plots\n",
    "p_list <- Map(function(cancer, omics_file, save_path) {\n",
    "  message(\"Processing: \", cancer)\n",
    "  \n",
    "  # Plot bar plot\n",
    "  p <- plot_data_dim(data = omics_file, data_labels = c(\"PCA\", \"no PCA\"),\n",
    "                     log_x = FALSE, title = cancer, compare = TRUE)\n",
    "  \n",
    "  # Save the plot\n",
    "  ggsave(p, file = save_path, height = 20, width = 20)\n",
    "  \n",
    "  return(p)\n",
    "}, cancers, omics_files, save_paths)\n",
    "\n",
    "# Combine all plots into a grid\n",
    "grid_plot <- do.call(grid.arrange, c(grobs = p_list, ncol = 3))\n",
    "print(grid_plot)\n",
    "ggsave(grid_plot, file = \"figures/data_dim_compare_all_can.pdf\", height = 45, width = 40)"
   ]
  },
  {
   "cell_type": "markdown",
   "metadata": {},
   "source": [
    "Next we benchmark the performance of four JDR tools (MOFA+, JIVE, MCIA and RGCCA) on the data with and without PCA. "
   ]
  },
  {
   "cell_type": "code",
   "execution_count": null,
   "metadata": {
    "vscode": {
     "languageId": "r"
    }
   },
   "outputs": [],
   "source": [
    "if (!precomputed) {\n",
    "  # Ensure the benchmark directory exists\n",
    "  dir.create(file.path(wd, benchmark_dir), showWarnings = FALSE)\n",
    "\n",
    "  # Define vectors for omics file paths and save file paths\n",
    "  omics_files_no_pca <- file.path(wd, paste0(cancers_tcga, \"_omics_no_pca.Rda\"))\n",
    "  omics_files_pca <- file.path(wd, paste0(cancers_tcga, \"_omics_pca.Rda\"))\n",
    "  save_files_pca <- file.path(wd, benchmark_dir, paste0(cancers_tcga, \"_factorisations_pca.Rda\"))\n",
    "  save_files_no_pca <- file.path(wd, benchmark_dir, paste0(cancers_tcga, \"_factorisations_no_pca.Rda\"))\n",
    "\n",
    "\n",
    "  # iterate over cancers\n",
    "  Map(function(cancer, omics_file_pca, omics_file_no_pca, save_file_pca, save_file_no_pca) {\n",
    "    print(cancer)\n",
    "    \n",
    "    # Run factorization\n",
    "    factorizations_pca <- run_jdr(omic_list = omics_file_pca, seed = 13)\n",
    "    factorizations_no_pca <- run_jdr(omic_list = omics_file_no_pca, seed = 13)\n",
    "    \n",
    "    # Save the factorizations\n",
    "    save(factorizations_pca, file = save_file_pca)\n",
    "    save(factorizations_no_pca, file = save_file_no_pca)\n",
    "\n",
    "  }, cancers_tcga, omics_files_pca, omics_files_no_pca, save_files_pca, save_files_no_pca)\n",
    "}"
   ]
  },
  {
   "cell_type": "markdown",
   "metadata": {},
   "source": [
    "We perform univariate cox regression for each factor to asses its association ith survival. The below reproduces Figure S3 from the manuscript."
   ]
  },
  {
   "cell_type": "code",
   "execution_count": null,
   "metadata": {
    "vscode": {
     "languageId": "r"
    }
   },
   "outputs": [],
   "source": [
    "# Define vectors for file paths\n",
    "pca_files <- file.path(benchmark_dir, paste0(cancers_tcga, \"_factorisations_pca.Rda\"))\n",
    "no_pca_files <- file.path(benchmark_dir, paste0(cancers_tcga, \"_factorisations_no_pca.Rda\"))\n",
    "surv_files <- file.path(wd, paste0(cancers_tcga, \"_surv.Rda\"))\n",
    "\n",
    "# Initialize the survival data frame\n",
    "surv_df <- data.frame()\n",
    "\n",
    "# process each cancer type\n",
    "results <- Map(function(cancer, pca_file, no_pca_file, surv_file) {\n",
    "  message(\"Processing: \", cancer)\n",
    "\n",
    "  PCA <- get(load(pca_file))\n",
    "  noPCA <- get(load(no_pca_file))\n",
    "  surv <- get(load(surv_file))\n",
    "\n",
    "  methods <- names(PCA)\n",
    "  result_list <- list()\n",
    "\n",
    "  for (method in methods) {\n",
    "    if (method == \"MOFA\") {\n",
    "      pca_fct <- PCA[[method]][[1]]\n",
    "      nopca_fct <- noPCA[[method]][[1]]\n",
    "    } else {\n",
    "      pca_fct <- PCA[[method]]\n",
    "      nopca_fct <- noPCA[[method]]\n",
    "    }\n",
    "\n",
    "    # Run the survival association of the factors\n",
    "    PCA_cox <- surv_association(pca_fct, surv, univariate = TRUE)\n",
    "    noPCA_cox <- surv_association(nopca_fct, surv, univariate = TRUE)\n",
    "\n",
    "    df <- surv_compare(models = list(PCA_cox, noPCA_cox), \n",
    "                       model_labels = c(\"PCA\", \"no_PCA\"), \n",
    "                       univariate = TRUE, method = \"BH\")\n",
    "\n",
    "    df$cancer <- cancer\n",
    "    df$method <- method\n",
    "\n",
    "    result_list[[method]] <- list(df = df, cox_models = list(PCA_cox, noPCA_cox))\n",
    "  }\n",
    "\n",
    "  return(result_list)\n",
    "}, cancers_tcga, pca_files, no_pca_files, surv_files)\n",
    "\n",
    "# Combine data frames and save the results\n",
    "for (cancer in cancers_tcga) {\n",
    "  for (method in names(results[[cancer]])) {\n",
    "    df <- results[[cancer]][[method]]$df\n",
    "    surv_df <- rbind(surv_df, df)\n",
    "\n",
    "    cox_all <- results[[cancer]][[method]]$cox_models\n",
    "    names(cox_all) <- c(\"PCA\", \"no_PCA\")\n",
    "\n",
    "    save(cox_all, file = file.path(benchmark_dir, paste0(cancer, \"_cox_models_\", method, \".Rda\")))\n",
    "  }\n",
    "}\n",
    "\n",
    "save(surv_df, file = file.path(benchmark_dir, \"TCGA_surv_all_bench.Rda\"))\n"
   ]
  },
  {
   "cell_type": "code",
   "execution_count": null,
   "metadata": {
    "vscode": {
     "languageId": "r"
    }
   },
   "outputs": [],
   "source": [
    "# plotting\n",
    "load(\"benchmark/TCGA_surv_all_bench.Rda\")\n",
    "\n",
    "method <- unique(surv_df$method)\n",
    "cols <- palette(\"Dark2\")\n",
    "\n",
    "for(i in method){\n",
    "  surv_meth <- surv_df[which(surv_df$method == i),]\n",
    "  models <- unique(surv_meth$label)\n",
    "  p <- surv_compare_dotplot(surv_df = surv_meth, models_to_compare = models,\n",
    "                            colours = c(cols[8], \"grey\", cols[6]))\n",
    "\n",
    "  ggsave(p, file=paste0(wd,\"/figures/surv_compare_PCA_\",i,\".pdf\"))\n",
    "}"
   ]
  },
  {
   "cell_type": "markdown",
   "metadata": {},
   "source": [
    "# Integrating GRNs with multi-omics data using MOFA+\n",
    "We use MOFA+ to investigate the contribution of GRNs to JDR models and their association with patient survival. We run MOFA+ separately on all omics data types with no GRN information and compared the results with MOFA+ models that included network metrics (indegree, outdegree, and both)."
   ]
  },
  {
   "cell_type": "code",
   "execution_count": null,
   "metadata": {
    "vscode": {
     "languageId": "r"
    }
   },
   "outputs": [],
   "source": [
    "# running MOFA models\n",
    "for (cancer in cancers_tcga) {\n",
    "  load(paste0(wd, \"/\", cancer, \"_omics_pca.Rda\"))\n",
    "\n",
    "  #nonet\n",
    "  data_nonet <- omics[1:3]\n",
    "  mofa_nonet <- run_mofa2(data_nonet, n_fct = 5, seed = 13, convergence = \"slow\", use_basilisk = T)\n",
    "  save(mofa_nonet, file = paste0(\"MOFA_\", cancer, \"_pca_nonet.Rda\"))\n",
    "\n",
    "  # with indeg\n",
    "  data_indeg <- omics[-5]\n",
    "  mofa_indeg <- run_mofa2(data_indeg, n_fct = 5, seed = 13, convergence = \"slow\", use_basilisk = T)\n",
    "  save(mofa_indeg, file = paste0(\"MOFA_\", cancer, \"_pca_indeg.Rda\"))\n",
    "\n",
    "  # with outdeg\n",
    "  data_out <- omics[-4]\n",
    "  mofa_out <- run_mofa2(data_out, n_fct = 5, seed = 13, convergence = \"slow\", use_basilisk = T)\n",
    "  save(mofa_out, file = paste0(\"MOFA_\", cancer, \"_pca_out.Rda\"))\n",
    "\n",
    "  # with both\n",
    "  data_both <- omics\n",
    "  mofa_both <- run_mofa2(data_both, n_fct = 5, seed = 13, convergence = \"slow\", use_basilisk = T)\n",
    "  save(mofa_both, file = paste0(\"MOFA_\", cancer, \"_pca_both.Rda\"))\n",
    "}"
   ]
  },
  {
   "cell_type": "markdown",
   "metadata": {},
   "source": [
    "As with the benchmarking, we perform univariate cox models for each factor to determine their association with patient survival. We compare the association of the factors to patient survival in the models without GRNs and the models with GRNs, reproducing Figure 3 from the paper. "
   ]
  },
  {
   "cell_type": "code",
   "execution_count": null,
   "metadata": {
    "vscode": {
     "languageId": "r"
    }
   },
   "outputs": [],
   "source": [
    "# Define model types\n",
    "model_types <- c(\"nonet\", \"indeg\", \"out\", \"both\")\n",
    "\n",
    "# Define file paths for MOFA models and survival data\n",
    "mofa_files <- lapply(model_types, function(model) {\n",
    "  file.path(wd, paste0(\"MOFA_\", cancers_tcga, \"_pca_\", model, \".Rda\"))\n",
    "})\n",
    "mofa_files <- do.call(c, mofa_files)\n",
    "\n",
    "surv_files <- file.path(wd, paste0(cancers_tcga, \"_surv.Rda\"))\n",
    "\n",
    "# Initialize the survival data frame\n",
    "surv_df <- data.frame()\n",
    "\n",
    "# process each cancer for each model type\n",
    "new_surv_df <- Map(function(cancer, mofa_files, surv_file) {\n",
    "  message(\"Processing: \", cancer)\n",
    "\n",
    "  # Load MOFA models and survival data\n",
    "  models <- lapply(mofa_files, load)\n",
    "  models <- lapply(models, get)\n",
    "  load(surv_file) # loads into 'surv' variable\n",
    "\n",
    "  # Getting factors\n",
    "  factors <- lapply(models, function(model) get_factors(model)[[1]])\n",
    "\n",
    "  # Perform survival associations\n",
    "  cox_models <- lapply(factors, surv_association, surv = surv, univariate = TRUE)\n",
    "\n",
    "  # Compare survival models\n",
    "  df <- surv_compare(models = cox_models, model_labels = model_types,\n",
    "                     univariate = TRUE, method = \"BH\")\n",
    "  df$cancer <- cancer\n",
    "\n",
    "  # Save individual cox models\n",
    "  cox_all <- setNames(cox_models, model_types)\n",
    "  save(cox_all, file = file.path(wd, paste0(cancer, \"_cox_models_PCA.Rda\")))\n",
    "\n",
    "  return(df)\n",
    "}, rep(cancers_tcga, each = length(model_types)), seq(1, length(mofa_files), length(cancers_tcga)), surv_files)\n",
    "\n",
    "# Combine all results into a single data frame\n",
    "surv_df <- do.call(rbind, new_surv_df)\n",
    "\n",
    "# Save the combined survival data frame\n",
    "save(surv_df, file = paste0(wd, \"/TCGA_MOFA_surv_df_all_PCA.Rda\"))\n"
   ]
  },
  {
   "cell_type": "code",
   "execution_count": null,
   "metadata": {
    "vscode": {
     "languageId": "r"
    }
   },
   "outputs": [],
   "source": [
    "# plotting\n",
    "if(!exists(\"surv_df\")){\n",
    "  load(paste0(\"TCGA_MOFA_surv_df_all_PCA.Rda\"))\n",
    "}\n",
    "\n",
    "#get models to compare\n",
    "model_comp <- setdiff(model, \"nonet\")\n",
    "\n",
    "#set colours\n",
    "cols <- palette(\"Dark2\")\n",
    "\n",
    "for(i in model_comp){\n",
    "  models_to_compare <- c(\"nonet\", i)\n",
    "  p <- surv_compare_dotplot(surv_df = surv_df, models_to_compare = models_to_compare, \n",
    "                            colours = c(cols[8], \"grey\", cols[1]))\n",
    "\n",
    "  ggsave(p, file=paste0(wd, \"/figures/surv_compare_\",models_to_compare[2],\"_bee_5_PCA_quant.png\"))\n",
    "  ggsave(p, file=paste0(wd, \"/figures/surv_compare_\",models_to_compare[2],\"_bee_5_PCA_quant.pdf\"))\n",
    "}"
   ]
  },
  {
   "cell_type": "markdown",
   "metadata": {},
   "source": [
    "# Investigating survival associated factors in liver cancer\n",
    "We explore the survival-associated factors identified when including GRN features for the TCGA liver cancer samples. We evaluate which feature types were explained by the survival associated factors and we explore the correlation between the factors without GRNs and those with GRNs to assess whether the GRNs capture different heterogeneity than the other omics, or if they boost a preexisting signal. The below reproduces Figure 4 from the manuscript."
   ]
  },
  {
   "cell_type": "code",
   "execution_count": null,
   "metadata": {
    "vscode": {
     "languageId": "r"
    }
   },
   "outputs": [],
   "source": [
    "# Plotting heatmap of the -log10(FDR) of the survival association of the factors (Figure 4A)\n",
    "load(\"TCGA_MOFA_surv_df_all_PCA.Rda\")\n",
    "cols <- palette(\"Dark2\")\n",
    "\n",
    "surv_can <- surv_df %>%\n",
    "  filter(cancer == \"liver\")\n",
    "\n",
    "  p <- .plot_heatmap(surv_can)\n",
    "  p <- p +\n",
    "       scale_fill_gradient(low = \"white\", high = cols[1],\n",
    "                           limits = c(0,3),\n",
    "                           breaks = seq(0,3, by = 1)) +\n",
    "       labs(x = \"Model\", y = NULL, fill = expression(\"-log\"[10] * \"FDR\"))\n",
    "  ggsave(p, file = paste0(\"figures/liver_fct_sig_heat.pdf\"))\n"
   ]
  },
  {
   "cell_type": "code",
   "execution_count": null,
   "metadata": {
    "vscode": {
     "languageId": "r"
    }
   },
   "outputs": [],
   "source": [
    "# plotting heatmap of variance explained by each MOFA factor (Figure 4B)\n",
    "cols <- palette(\"Dark2\")\n",
    "load(\"TCGA_MOFA_surv_df_all_PCA.Rda\")\n",
    "load(paste0(\"MOFA_liver_pca_both.Rda\"))\n",
    "\n",
    "surv_can <- surv_df %>%\n",
    "  filter(cancer == \"liver\")\n",
    "\n",
    "b <- suppressMessages(plot_var_heat(mofa_both))\n",
    "\n",
    "ggsave(b, file = paste0(\"figures/\",cancer, \"_var_explained_both.pdf\"),width = 10, height = 9)"
   ]
  },
  {
   "cell_type": "code",
   "execution_count": null,
   "metadata": {
    "vscode": {
     "languageId": "r"
    }
   },
   "outputs": [],
   "source": [
    "# plotting the correlation of factors from the model without GRNs and the model with GRNs (Figure 4C)\n",
    "corr_all <- list()\n",
    "corr_df <- data.frame()\n",
    "\n",
    "# load models\n",
    "all <- get(load(paste0(\"MOFA_liver_pca_both.Rda\")))\n",
    "nonet <- get(load(paste0(\"MOFA_liver_pca_nonet.Rda\")))\n",
    "\n",
    "# get factors\n",
    "all_fct <- get_factors(all)[[1]]\n",
    "nonet_fct <- get_factors(nonet)[[1]]\n",
    "\n",
    "corr <- fct_corr(all_fct, nonet_fct, labels = c(\"all\", \"no GRN\"),\n",
    "                as_data_frame = TRUE, abs = TRUE)\n",
    "\n",
    "# reformat as data frame\n",
    "corr_df <- format_fct_corr(corr)\n",
    "\n",
    "# plot\n",
    "p <- plot_fct_corr(corr_df, abs = TRUE)\n",
    "\n",
    "# removing facet headers\n",
    "p <- p +\n",
    "  theme(strip.background = element_blank(),  # Remove background of the facet label\n",
    "        strip.text = element_blank())\n",
    "ggsave(p, file = paste0(\"figures/liver_view_exclusion_both_abs.pdf\"), width = 10, height = 9)\n",
    "\n",
    "# save dataframe\n",
    "save(corr_df, file = \"view_exclusion_corr_df_both_abs.Rda\")"
   ]
  }
 ],
 "metadata": {
  "language_info": {
   "name": "python"
  }
 },
 "nbformat": 4,
 "nbformat_minor": 2
}
